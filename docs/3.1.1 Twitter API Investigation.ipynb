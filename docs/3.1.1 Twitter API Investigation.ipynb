{
 "cells": [
  {
   "cell_type": "markdown",
   "metadata": {
    "deletable": true,
    "editable": true
   },
   "source": [
    "# Twitter API Investigation\n",
    "\n",
    "As mentioned before, Twitter has provided a REST API for requesting\n",
    "relevant Twitter data. [The link to the API is here.][link] There seems\n",
    "to be a lot of relevant documentation on request limits, however, there\n",
    "doesn't seem to be any sort of introductory tutorial. In that case I'll\n",
    "try following [the Tweepy documentation]][tweepy] which is an API\n",
    "client to allow \"Twitter for Python.\"\n",
    "\n",
    "[link]: https://dev.twitter.com/rest/public\n",
    "[tweepy]: http://www.tweepy.org/\n",
    "\n",
    "It seems that to interact with the API you need a key and access token\n",
    "which can be created by creating a Twitter app in [the Twitter apps\n",
    "section](https://apps.twitter.com). Once the app was created I got my\n",
    "key and access token.\n",
    "\n",
    "From most references Tweepy seems to be the Python libray of choice for\n",
    "interacting with the Twitter data so I'll give it a shot with that.\n",
    "\n",
    "First I'll create a virtualenv for this work (with Python 3.5).\n",
    "\n",
    "```bash\n",
    "mkvirtualenv twitter_project\n",
    "```\n",
    "\n",
    "Install Tweepy from pip.\n",
    "\n",
    "```bash\n",
    "pip install tweepy\n",
    "```\n",
    "\n",
    "Now we can start investigating tweepy. First, import the keys (which are hidden from git for security reasons) and tweepy."
   ]
  },
  {
   "cell_type": "code",
   "execution_count": 3,
   "metadata": {
    "collapsed": false,
    "deletable": true,
    "editable": true
   },
   "outputs": [],
   "source": [
    "import keys\n",
    "import tweepy\n",
    "from pprint import pprint\n",
    "\n",
    "consumer_key = keys.CONSUMER_KEY\n",
    "consumer_secret = keys.CONSUMER_SECRET\n",
    "access_token = keys.ACCESS_TOKEN\n",
    "access_token_secret = keys.ACCESS_TOKEN_SECRET"
   ]
  },
  {
   "cell_type": "markdown",
   "metadata": {
    "deletable": true,
    "editable": true
   },
   "source": [
    "Tweepy provides a straightforward method to signing in (through OAuthHandler) and setting an access token. "
   ]
  },
  {
   "cell_type": "code",
   "execution_count": 4,
   "metadata": {
    "collapsed": true,
    "deletable": true,
    "editable": true
   },
   "outputs": [],
   "source": [
    "auth = tweepy.OAuthHandler(consumer_key, consumer_secret)\n",
    "auth.set_access_token(access_token, access_token_secret)\n",
    "\n",
    "api = tweepy.API(auth)"
   ]
  },
  {
   "cell_type": "markdown",
   "metadata": {
    "deletable": true,
    "editable": true
   },
   "source": [
    "Now that this is complete we can interact with tweepy! Let's see what the api calls include."
   ]
  },
  {
   "cell_type": "code",
   "execution_count": 5,
   "metadata": {
    "collapsed": false,
    "deletable": true,
    "editable": true
   },
   "outputs": [
    {
     "name": "stdout",
     "output_type": "stream",
     "text": [
      "['add_list_member', 'add_list_members', 'api_root', 'auth', 'blocks',\n",
      " 'blocks_ids', 'cache', 'compression', 'configuration', 'create_block',\n",
      " 'create_favorite', 'create_friendship', 'create_list', 'create_saved_search',\n",
      " 'destroy_block', 'destroy_direct_message', 'destroy_favorite',\n",
      " 'destroy_friendship', 'destroy_list', 'destroy_saved_search', 'destroy_status',\n",
      " 'direct_messages', 'favorites', 'followers', 'followers_ids', 'friends',\n",
      " 'friends_ids', 'friendships_incoming', 'friendships_outgoing', 'geo_id',\n",
      " 'geo_search', 'geo_similar_places', 'get_direct_message', 'get_list',\n",
      " 'get_oembed', 'get_saved_search', 'get_settings', 'get_status', 'get_user',\n",
      " 'home_timeline', 'host', 'list_members', 'list_subscribers', 'list_timeline',\n",
      " 'lists_all', 'lists_memberships', 'lists_subscriptions', 'lookup_friendships',\n",
      " 'lookup_users', 'me', 'media_upload', 'mentions_timeline', 'parser', 'proxy',\n",
      " 'rate_limit_status', 'related_results', 'remove_list_member',\n",
      " 'remove_list_members', 'report_spam', 'retry_count', 'retry_delay',\n",
      " 'retry_errors', 'retweet', 'retweeters', 'retweets', 'retweets_of_me',\n",
      " 'reverse_geocode', 'saved_searches', 'search', 'search_host', 'search_root',\n",
      " 'search_users', 'send_direct_message', 'sent_direct_messages',\n",
      " 'set_delivery_device', 'set_settings', 'show_friendship', 'show_list_member',\n",
      " 'show_list_subscriber', 'statuses_lookup', 'subscribe_list',\n",
      " 'suggested_categories', 'suggested_users', 'suggested_users_tweets',\n",
      " 'supported_languages', 'timeout', 'trends_available', 'trends_closest',\n",
      " 'trends_place', 'unsubscribe_list', 'update_list', 'update_profile',\n",
      " 'update_profile_background_image', 'update_profile_banner',\n",
      " 'update_profile_colors', 'update_profile_image', 'update_status',\n",
      " 'update_with_media', 'upload_host', 'upload_root', 'user_timeline',\n",
      " 'verify_credentials', 'wait_on_rate_limit', 'wait_on_rate_limit_notify']\n"
     ]
    }
   ],
   "source": [
    "pprint([method for method in dir(api) if not method.startswith('_')], compact=True)"
   ]
  },
  {
   "cell_type": "markdown",
   "metadata": {
    "deletable": true,
    "editable": true
   },
   "source": [
    "Interesting! Looks like there's a \"me\" option. Let's investigate that!"
   ]
  },
  {
   "cell_type": "code",
   "execution_count": 6,
   "metadata": {
    "collapsed": false,
    "deletable": true,
    "editable": true
   },
   "outputs": [
    {
     "name": "stdout",
     "output_type": "stream",
     "text": [
      "type = <class 'tweepy.models.User'>\n",
      "\n",
      "['contributors_enabled', 'created_at', 'default_profile',\n",
      " 'default_profile_image', 'description', 'entities', 'favourites_count',\n",
      " 'follow', 'follow_request_sent', 'followers', 'followers_count',\n",
      " 'followers_ids', 'following', 'friends', 'friends_count', 'geo_enabled',\n",
      " 'has_extended_profile', 'id', 'id_str', 'is_translation_enabled',\n",
      " 'is_translator', 'lang', 'listed_count', 'lists', 'lists_memberships',\n",
      " 'lists_subscriptions', 'location', 'name', 'needs_phone_verification',\n",
      " 'notifications', 'parse', 'parse_list', 'profile_background_color',\n",
      " 'profile_background_image_url', 'profile_background_image_url_https',\n",
      " 'profile_background_tile', 'profile_banner_url', 'profile_image_url',\n",
      " 'profile_image_url_https', 'profile_link_color', 'profile_location',\n",
      " 'profile_sidebar_border_color', 'profile_sidebar_fill_color',\n",
      " 'profile_text_color', 'profile_use_background_image', 'protected',\n",
      " 'screen_name', 'statuses_count', 'suspended', 'time_zone', 'timeline',\n",
      " 'translator_type', 'unfollow', 'url', 'utc_offset', 'verified']\n"
     ]
    }
   ],
   "source": [
    "me = api.me()\n",
    "print(\"type = \" + str(type(me)) + \"\\n\")\n",
    "pprint([method for method in dir(me) if not method.startswith('_')], compact=True)"
   ]
  },
  {
   "cell_type": "code",
   "execution_count": 7,
   "metadata": {
    "collapsed": false,
    "deletable": true,
    "editable": true
   },
   "outputs": [
    {
     "name": "stdout",
     "output_type": "stream",
     "text": [
      "User(_api=<tweepy.api.API object at 0x7f0af5ae86d8>, profile_image_url='http://pbs.twimg.com/profile_images/3129668516/70d9d896e1c7e983c0699b5546226e80_normal.jpeg', _json={'profile_image_url': 'http://pbs.twimg.com/profile_images/3129668516/70d9d896e1c7e983c0699b5546226e80_normal.jpeg', 'following': False, 'profile_sidebar_border_color': 'C0DEED', 'profile_sidebar_fill_color': 'DDEEF6', 'contributors_enabled': False, 'verified': False, 'suspended': False, 'profile_background_image_url': 'http://abs.twimg.com/images/themes/theme1/bg.png', 'profile_use_background_image': True, 'screen_name': 'cllangfo', 'profile_image_url_https': 'https://pbs.twimg.com/profile_images/3129668516/70d9d896e1c7e983c0699b5546226e80_normal.jpeg', 'default_profile_image': False, 'geo_enabled': False, 'url': None, 'profile_banner_url': 'https://pbs.twimg.com/profile_banners/294751529/1358613721', 'protected': False, 'statuses_count': 0, 'description': '', 'follow_request_sent': False, 'location': '', 'created_at': 'Sat May 07 18:08:13 +0000 2011', 'favourites_count': 0, 'entities': {'description': {'urls': []}}, 'listed_count': 0, 'is_translator': False, 'friends_count': 17, 'id_str': '294751529', 'time_zone': None, 'profile_text_color': '333333', 'lang': 'en', 'id': 294751529, 'needs_phone_verification': False, 'translator_type': 'none', 'profile_link_color': '1DA1F2', 'has_extended_profile': False, 'utc_offset': None, 'followers_count': 10, 'notifications': False, 'is_translation_enabled': False, 'default_profile': True, 'profile_background_tile': False, 'name': 'Craig Langford', 'profile_location': None, 'profile_background_image_url_https': 'https://abs.twimg.com/images/themes/theme1/bg.png', 'profile_background_color': 'C0DEED'}, following=False, profile_sidebar_border_color='C0DEED', is_translation_enabled=False, contributors_enabled=False, verified=False, suspended=False, profile_background_image_url='http://abs.twimg.com/images/themes/theme1/bg.png', profile_use_background_image=True, screen_name='cllangfo', profile_image_url_https='https://pbs.twimg.com/profile_images/3129668516/70d9d896e1c7e983c0699b5546226e80_normal.jpeg', default_profile_image=False, default_profile=True, url=None, profile_banner_url='https://pbs.twimg.com/profile_banners/294751529/1358613721', protected=False, statuses_count=0, description='', profile_text_color='333333', location='', created_at=datetime.datetime(2011, 5, 7, 18, 8, 13), favourites_count=0, entities={'description': {'urls': []}}, listed_count=0, is_translator=False, profile_background_tile=False, id_str='294751529', time_zone=None, follow_request_sent=False, lang='en', id=294751529, needs_phone_verification=False, translator_type='none', profile_link_color='1DA1F2', has_extended_profile=False, utc_offset=None, followers_count=10, notifications=False, profile_sidebar_fill_color='DDEEF6', geo_enabled=False, friends_count=17, name='Craig Langford', profile_location=None, profile_background_image_url_https='https://abs.twimg.com/images/themes/theme1/bg.png', profile_background_color='C0DEED')\n"
     ]
    }
   ],
   "source": [
    "print(me)"
   ]
  },
  {
   "cell_type": "markdown",
   "metadata": {
    "deletable": true,
    "editable": true
   },
   "source": [
    "Looks like there's full functionality. Here's what's shown on my timeline."
   ]
  },
  {
   "cell_type": "code",
   "execution_count": 8,
   "metadata": {
    "collapsed": false,
    "deletable": true,
    "editable": true
   },
   "outputs": [
    {
     "name": "stdout",
     "output_type": "stream",
     "text": [
      "type = <class 'tweepy.models.Status'>\n",
      "\n",
      "['author', 'contributors', 'coordinates', 'created_at', 'destroy', 'entities',\n",
      " 'extended_entities', 'favorite', 'favorite_count', 'favorited', 'geo', 'id',\n",
      " 'id_str', 'in_reply_to_screen_name', 'in_reply_to_status_id',\n",
      " 'in_reply_to_status_id_str', 'in_reply_to_user_id', 'in_reply_to_user_id_str',\n",
      " 'is_quote_status', 'lang', 'parse', 'parse_list', 'place',\n",
      " 'possibly_sensitive', 'possibly_sensitive_appealable', 'retweet',\n",
      " 'retweet_count', 'retweeted', 'retweeted_status', 'retweets', 'source',\n",
      " 'source_url', 'text', 'truncated', 'user']\n"
     ]
    }
   ],
   "source": [
    "public_tweets = api.home_timeline()\n",
    "first_tweet = public_tweets[0]\n",
    "print(\"type = \" + str(type(first_tweet)) + \"\\n\")\n",
    "pprint([method for method in dir(first_tweet) if not method.startswith('_')], compact=True)"
   ]
  },
  {
   "cell_type": "markdown",
   "metadata": {
    "deletable": true,
    "editable": true
   },
   "source": [
    "User and Status objects are the typical objects returned from the tweepy API. User objects are quite obvious, however, I was surprised to find tweet objects are actually named Statuses. Looking at the dir() of these objects above there can be seen to be a huge range of different attributes from the object that can be taken. In 3.2 we'll investigate what this project will revolve arround, hashtags."
   ]
  }
 ],
 "metadata": {
  "kernelspec": {
   "display_name": "Python 3",
   "language": "python",
   "name": "python3"
  },
  "language_info": {
   "codemirror_mode": {
    "name": "ipython",
    "version": 3
   },
   "file_extension": ".py",
   "mimetype": "text/x-python",
   "name": "python",
   "nbconvert_exporter": "python",
   "pygments_lexer": "ipython3",
   "version": "3.5.2"
  }
 },
 "nbformat": 4,
 "nbformat_minor": 2
}
