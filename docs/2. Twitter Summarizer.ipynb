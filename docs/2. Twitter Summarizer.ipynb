{
 "cells": [
  {
   "cell_type": "markdown",
   "metadata": {},
   "source": [
    "# Project\n",
    "\n",
    "After a few months of trying to decide what project to do I've finally\n",
    "decided to do a twitter summarizer. The final project will be a web\n",
    "page with different twitter stories, summarize, allowing people to\n",
    "upvote and downvote stories, as well as comment on them. The structure\n",
    "of the site will be similar to reddit allowing the top stories to reach\n",
    "the top of the page, and lesser stories to be voted down.\n",
    "\n",
    "Behind the scenes this will be much more complicated as it is not user\n",
    "generated content, as reddit does, but auto-generated content based on\n",
    "trending tweets. Therefore this project is divided into two main phases:\n",
    "\n",
    "1. Collecting twitter data and building a story generating algorithm.\n",
    "\n",
    "2. Building the front end, a webpage people can go to and interact with\n",
    "   the bespoke stories.\n",
    "\n",
    "For this project to work best, and allow me to have a more modular\n",
    "design is to have both sections interact through an API. Part 1 will be\n",
    "able to run completely separate from 2. And the website will be able\n",
    "to run with a separate database allowing certain API calls for new\n",
    "stories. An important feature in 1 will be taking feedback from the\n",
    "website, so building a feedback loop will be something to keep as a\n",
    "possibility if the website does gain any traction.\n",
    "\n",
    "Finally, keeping this project within the realm of something that is\n",
    "deployable is something to keep in mind. In that case I'm going to take\n",
    "advantage of as many tools as possible. If it ain't broker, don't fix\n",
    "it."
   ]
  }
 ],
 "metadata": {
  "kernelspec": {
   "display_name": "Python 3",
   "language": "python",
   "name": "python3"
  },
  "language_info": {
   "codemirror_mode": {
    "name": "ipython",
    "version": 3
   },
   "file_extension": ".py",
   "mimetype": "text/x-python",
   "name": "python",
   "nbconvert_exporter": "python",
   "pygments_lexer": "ipython3",
   "version": "3.5.2"
  }
 },
 "nbformat": 4,
 "nbformat_minor": 2
}
