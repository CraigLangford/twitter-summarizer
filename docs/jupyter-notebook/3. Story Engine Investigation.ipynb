{
 "cells": [
  {
   "cell_type": "markdown",
   "metadata": {},
   "source": [
    "# Twitter Story Generator\n",
    "\n",
    "The concept of the Twitter story generator is rather straight forward\n",
    "and can be broken down into the following steps.\n",
    "\n",
    "1. Find trending tweets.\n",
    "\n",
    "2. Take main facts from said tweets.\n",
    "\n",
    "3. Write a paragraph pertaining to these facts including links to their\n",
    "   sources.\n",
    "\n",
    "Each of these steps are quite easy to do myself, however, automating\n",
    "them will be quite interesting. Let's break down each step to understand\n",
    "what tools will be required to achieve them.\n",
    "\n",
    "## 1. Find trending tweets\n",
    "\n",
    "As great as it would be for the bot to comb through Twitter posts, it\n",
    "would be much more practical to utilize an API of sorts. Luckily Twitter\n",
    "provides such an API [found here][twitter]. The Twitter REST APIs in\n",
    "particular are relevant to this project. These are limited to 15\n",
    "requests every 15 minutes or 1 call per minute. The streaming APIs are\n",
    "quite interesting as well and may open up the possibility for graphs of\n",
    "retweets.\n",
    "\n",
    "[twitter]: https://dev.twitter.com/docs\n",
    "\n",
    "## 2. Break down tweets into main points\n",
    "\n",
    "To generate any information out of the tweets they'll need to be broken\n",
    "down to key points. This step is the most fundamental in the formation\n",
    "of any future steps which will primarily be language construction.\n",
    "[Monkey Learn][monkey_learn] is a good example of an API which can be\n",
    "used to extract data from tweets. The fact that this exists is\n",
    "comforting to know that it will be possible to do for this project.\n",
    "\n",
    "[monkey_learn]: http://monkeylearn.com/\n",
    "\n",
    "http://gis.stackexchange.com/questions/119923/converting-twitter-tweets-into-points\n",
    "https://ai.vub.ac.be/members/steels"
   ]
  }
 ],
 "metadata": {
  "kernelspec": {
   "display_name": "Python 3",
   "language": "python",
   "name": "python3"
  },
  "language_info": {
   "codemirror_mode": {
    "name": "ipython",
    "version": 3
   },
   "file_extension": ".py",
   "mimetype": "text/x-python",
   "name": "python",
   "nbconvert_exporter": "python",
   "pygments_lexer": "ipython3",
   "version": "3.5.2"
  }
 },
 "nbformat": 4,
 "nbformat_minor": 2
}
